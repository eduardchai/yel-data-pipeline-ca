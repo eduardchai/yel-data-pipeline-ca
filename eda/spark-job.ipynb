{
 "cells": [
  {
   "cell_type": "code",
   "execution_count": 9,
   "metadata": {},
   "outputs": [],
   "source": [
    "import pandas as pd\n",
    "import numpy as np\n",
    "\n",
    "from collections import OrderedDict\n",
    "from datetime import datetime\n",
    "from nltk.corpus import stopwords\n",
    "from nltk.tokenize import RegexpTokenizer\n",
    "from sklearn.feature_extraction.text import TfidfVectorizer\n",
    "from sklearn.metrics import pairwise_distances\n",
    "\n",
    "stop = stopwords.words('english')"
   ]
  },
  {
   "cell_type": "code",
   "execution_count": 2,
   "metadata": {},
   "outputs": [],
   "source": [
    "def load_data():\n",
    "    review_df = pd.read_csv(\"../data/df-raw.csv\", low_memory=False)\n",
    "    return review_df"
   ]
  },
  {
   "cell_type": "code",
   "execution_count": 3,
   "metadata": {},
   "outputs": [],
   "source": [
    "def remove_stopwords(words):\n",
    "    \"\"\"Remove stop words from list of tokenized words\"\"\"\n",
    "    new_words = []\n",
    "    \n",
    "    try:\n",
    "        for word in words.split():\n",
    "            if word not in stop:\n",
    "                new_words.append(word)\n",
    "    except:\n",
    "        pass\n",
    "    return ' '.join(new_words)"
   ]
  },
  {
   "cell_type": "code",
   "execution_count": 4,
   "metadata": {},
   "outputs": [],
   "source": [
    "def data_cleaning(df):\n",
    "    print(\"Cleaning Data\")\n",
    "    # Removing \\n from date field\n",
    "    for i in range(len(df['date'])):\n",
    "        if df['date'][i][0] == '\\n':\n",
    "            df['date'][i] = df['date'][i][1:]\n",
    "\n",
    "    # Removing emtpy cells\n",
    "    if len(np.where(pd.isnull(df))) > 2:\n",
    "        # TODO\n",
    "        pass\n",
    "\n",
    "    #Pre-processing Text Reviews\n",
    "    # Remove Stop Words\n",
    "    df['reviewContent'] = df['reviewContent'].apply(lambda x: remove_stopwords(x))\n",
    "    # Remove Punctuations\n",
    "    tokenizer = RegexpTokenizer(r'\\w+')\n",
    "    df['reviewContent'] = df['reviewContent'].apply(\n",
    "        lambda x: ' '.join(word for word in tokenizer.tokenize(x)))\n",
    "\n",
    "    # Lowercase Words\n",
    "    df['reviewContent'] = df['reviewContent'].apply(\n",
    "        lambda x: x.lower())\n",
    "    print(\"Data Cleaning Complete\")\n",
    "    return df"
   ]
  },
  {
   "cell_type": "code",
   "execution_count": 5,
   "metadata": {},
   "outputs": [],
   "source": [
    "def feature_engineering(df):\n",
    "    print(\"Feature Engineering: Creating New Features\")\n",
    "    \n",
    "    # Maximum Number of Reviews per day per reviewer\n",
    "    mnr_df1 = df[['reviewerID', 'date']].copy()\n",
    "    mnr_df2 = mnr_df1.groupby(by=['date', 'reviewerID']).size().reset_index(name='mnr')\n",
    "    mnr_df2['mnr'] = mnr_df2['mnr'] / mnr_df2['mnr'].max()\n",
    "    df = df.merge(mnr_df2, on=['reviewerID', 'date'], how='inner')\n",
    "\n",
    "    # Review Length\n",
    "    df['reviewLength'] = df['reviewContent'].apply(lambda x: len(x.split()))\n",
    "\n",
    "    # Review Deviation\n",
    "    df['reviewDeviation'] = abs(df['rating'] - df['restaurantRating']) / 4\n",
    "\n",
    "    # Maximum cosine similarity\n",
    "    review_data = df\n",
    "\n",
    "    res = OrderedDict()\n",
    "\n",
    "    # Iterate over data and create groups of reviewers\n",
    "    for row in review_data.iterrows():\n",
    "        if row[1].reviewerID in res:\n",
    "            res[row[1].reviewerID].append(row[1].reviewContent)\n",
    "        else:\n",
    "            res[row[1].reviewerID] = [row[1].reviewContent]\n",
    "\n",
    "    individual_reviewer = [{'reviewerID': k, 'reviewContent': v} for k, v in res.items()]\n",
    "    df2 = dict()\n",
    "    df2['reviewerID'] = pd.Series([])\n",
    "    df2['Maximum Content Similarity'] = pd.Series([])\n",
    "    vector = TfidfVectorizer(min_df=0)\n",
    "    count = -1\n",
    "    \n",
    "    for reviewer_data in individual_reviewer:\n",
    "        count = count + 1\n",
    "        # Handle Null/single review gracefully -24-Apr-2019\n",
    "        #tfidf = np.empty(shape=(1,1))\n",
    "        try:\n",
    "            tfidf = vector.fit_transform(reviewer_data['reviewContent'])\n",
    "        except:\n",
    "            pass\n",
    "        cosine = 1 - pairwise_distances(tfidf, metric='cosine')\n",
    "\n",
    "        np.fill_diagonal(cosine, -np.inf)\n",
    "        max = cosine.max()\n",
    "\n",
    "        # To handle reviewier with just 1 review\n",
    "        if max == -np.inf:\n",
    "            max = 0\n",
    "        df2['reviewerID'][count] = reviewer_data['reviewerID']\n",
    "        df2['Maximum Content Similarity'][count] = max\n",
    "\n",
    "    df3 = pd.DataFrame(df2, columns=['reviewerID', 'Maximum Content Similarity'])\n",
    "\n",
    "    # left outer join on original datamatrix and cosine dataframe -24-Apr-2019\n",
    "    df = pd.merge(review_data, df3, on=\"reviewerID\", how=\"left\")\n",
    "\n",
    "    df.drop(index=np.where(pd.isnull(df))[0], axis=0, inplace=True)\n",
    "    print(\"Feature Engineering Complete\")\n",
    "    return df"
   ]
  },
  {
   "cell_type": "code",
   "execution_count": 12,
   "metadata": {},
   "outputs": [],
   "source": [
    "df = load_data()"
   ]
  },
  {
   "cell_type": "code",
   "execution_count": 13,
   "metadata": {},
   "outputs": [
    {
     "name": "stdout",
     "output_type": "stream",
     "text": [
      "Cleaning Data\n",
      "Data Cleaning Complete\n"
     ]
    }
   ],
   "source": [
    "df_cleaned = data_cleaning(df)"
   ]
  },
  {
   "cell_type": "code",
   "execution_count": 10,
   "metadata": {},
   "outputs": [
    {
     "name": "stdout",
     "output_type": "stream",
     "text": [
      "Feature Engineering: Creating New Features\n"
     ]
    },
    {
     "name": "stderr",
     "output_type": "stream",
     "text": [
      "/Users/eduardchai/miniconda/envs/big-data-ca/lib/python3.6/site-packages/ipykernel_launcher.py:30: DeprecationWarning: The default dtype for empty Series will be 'object' instead of 'float64' in a future version. Specify a dtype explicitly to silence this warning.\n",
      "/Users/eduardchai/miniconda/envs/big-data-ca/lib/python3.6/site-packages/ipykernel_launcher.py:31: DeprecationWarning: The default dtype for empty Series will be 'object' instead of 'float64' in a future version. Specify a dtype explicitly to silence this warning.\n"
     ]
    },
    {
     "name": "stdout",
     "output_type": "stream",
     "text": [
      "Feature Engineering Complete\n"
     ]
    }
   ],
   "source": [
    "df_features = feature_engineering(df_cleaned)"
   ]
  },
  {
   "cell_type": "code",
   "execution_count": 11,
   "metadata": {},
   "outputs": [],
   "source": [
    "df_features.to_csv(\"../data/df-final.csv\", index=False)"
   ]
  },
  {
   "cell_type": "code",
   "execution_count": 14,
   "metadata": {},
   "outputs": [],
   "source": [
    "mnr_df1 = df_cleaned[['reviewerID', 'date']].copy()"
   ]
  },
  {
   "cell_type": "code",
   "execution_count": 21,
   "metadata": {},
   "outputs": [
    {
     "data": {
      "text/html": [
       "<div>\n",
       "<style scoped>\n",
       "    .dataframe tbody tr th:only-of-type {\n",
       "        vertical-align: middle;\n",
       "    }\n",
       "\n",
       "    .dataframe tbody tr th {\n",
       "        vertical-align: top;\n",
       "    }\n",
       "\n",
       "    .dataframe thead th {\n",
       "        text-align: right;\n",
       "    }\n",
       "</style>\n",
       "<table border=\"1\" class=\"dataframe\">\n",
       "  <thead>\n",
       "    <tr style=\"text-align: right;\">\n",
       "      <th></th>\n",
       "      <th>reviewerID</th>\n",
       "      <th>date</th>\n",
       "    </tr>\n",
       "  </thead>\n",
       "  <tbody>\n",
       "    <tr>\n",
       "      <th>0</th>\n",
       "      <td>bNYesZ944s6IJVowOnB0iA</td>\n",
       "      <td>9/22/2012</td>\n",
       "    </tr>\n",
       "    <tr>\n",
       "      <th>1</th>\n",
       "      <td>TRKxLC3y-ZvP45e5iilMtw</td>\n",
       "      <td>9/22/2012</td>\n",
       "    </tr>\n",
       "    <tr>\n",
       "      <th>2</th>\n",
       "      <td>0EMm8umAqXZzyhxNpL4M9g</td>\n",
       "      <td>9/19/2012</td>\n",
       "    </tr>\n",
       "    <tr>\n",
       "      <th>3</th>\n",
       "      <td>DlwexC7z88ymAzu45skODw</td>\n",
       "      <td>9/6/2012</td>\n",
       "    </tr>\n",
       "    <tr>\n",
       "      <th>4</th>\n",
       "      <td>kW2dk1CWihmh3g7k9N2G8A</td>\n",
       "      <td>9/9/2012</td>\n",
       "    </tr>\n",
       "  </tbody>\n",
       "</table>\n",
       "</div>"
      ],
      "text/plain": [
       "               reviewerID       date\n",
       "0  bNYesZ944s6IJVowOnB0iA  9/22/2012\n",
       "1  TRKxLC3y-ZvP45e5iilMtw  9/22/2012\n",
       "2  0EMm8umAqXZzyhxNpL4M9g  9/19/2012\n",
       "3  DlwexC7z88ymAzu45skODw   9/6/2012\n",
       "4  kW2dk1CWihmh3g7k9N2G8A   9/9/2012"
      ]
     },
     "execution_count": 21,
     "metadata": {},
     "output_type": "execute_result"
    }
   ],
   "source": [
    "mnr_df1.head()"
   ]
  },
  {
   "cell_type": "code",
   "execution_count": 17,
   "metadata": {},
   "outputs": [],
   "source": [
    "mnr_df2 = mnr_df1.groupby(by=['date', 'reviewerID']).size().reset_index(name='mnr')"
   ]
  },
  {
   "cell_type": "code",
   "execution_count": 22,
   "metadata": {},
   "outputs": [
    {
     "data": {
      "text/html": [
       "<div>\n",
       "<style scoped>\n",
       "    .dataframe tbody tr th:only-of-type {\n",
       "        vertical-align: middle;\n",
       "    }\n",
       "\n",
       "    .dataframe tbody tr th {\n",
       "        vertical-align: top;\n",
       "    }\n",
       "\n",
       "    .dataframe thead th {\n",
       "        text-align: right;\n",
       "    }\n",
       "</style>\n",
       "<table border=\"1\" class=\"dataframe\">\n",
       "  <thead>\n",
       "    <tr style=\"text-align: right;\">\n",
       "      <th></th>\n",
       "      <th>date</th>\n",
       "      <th>reviewerID</th>\n",
       "      <th>mnr</th>\n",
       "    </tr>\n",
       "  </thead>\n",
       "  <tbody>\n",
       "    <tr>\n",
       "      <th>0</th>\n",
       "      <td>1/1/2007</td>\n",
       "      <td>cWLSaEabp-BJq6XmovsZIQ</td>\n",
       "      <td>1</td>\n",
       "    </tr>\n",
       "    <tr>\n",
       "      <th>1</th>\n",
       "      <td>1/1/2011</td>\n",
       "      <td>yi5W66M-PcMXO_Ft38cE6w</td>\n",
       "      <td>3</td>\n",
       "    </tr>\n",
       "    <tr>\n",
       "      <th>2</th>\n",
       "      <td>1/1/2012</td>\n",
       "      <td>WmGor7V3XoOO0nceQNdjKA</td>\n",
       "      <td>1</td>\n",
       "    </tr>\n",
       "    <tr>\n",
       "      <th>3</th>\n",
       "      <td>1/10/2008</td>\n",
       "      <td>ZIowdUve-IjIN-EgQIwCLA</td>\n",
       "      <td>1</td>\n",
       "    </tr>\n",
       "    <tr>\n",
       "      <th>4</th>\n",
       "      <td>1/10/2012</td>\n",
       "      <td>8D8mjeNaJ3DGhl0WX8copA</td>\n",
       "      <td>2</td>\n",
       "    </tr>\n",
       "  </tbody>\n",
       "</table>\n",
       "</div>"
      ],
      "text/plain": [
       "        date              reviewerID  mnr\n",
       "0   1/1/2007  cWLSaEabp-BJq6XmovsZIQ    1\n",
       "1   1/1/2011  yi5W66M-PcMXO_Ft38cE6w    3\n",
       "2   1/1/2012  WmGor7V3XoOO0nceQNdjKA    1\n",
       "3  1/10/2008  ZIowdUve-IjIN-EgQIwCLA    1\n",
       "4  1/10/2012  8D8mjeNaJ3DGhl0WX8copA    2"
      ]
     },
     "execution_count": 22,
     "metadata": {},
     "output_type": "execute_result"
    }
   ],
   "source": [
    "mnr_df2.head()"
   ]
  },
  {
   "cell_type": "code",
   "execution_count": 24,
   "metadata": {},
   "outputs": [],
   "source": [
    "res = OrderedDict()"
   ]
  },
  {
   "cell_type": "code",
   "execution_count": 25,
   "metadata": {},
   "outputs": [],
   "source": [
    "# Iterate over data and create groups of reviewers\n",
    "for row in df_cleaned.iterrows():\n",
    "    if row[1].reviewerID in res:\n",
    "        res[row[1].reviewerID].append(row[1].reviewContent)\n",
    "    else:\n",
    "        res[row[1].reviewerID] = [row[1].reviewContent]"
   ]
  },
  {
   "cell_type": "code",
   "execution_count": 27,
   "metadata": {},
   "outputs": [],
   "source": [
    "individual_reviewer = [{'reviewerID': k, 'reviewContent': v} for k, v in res.items()]"
   ]
  },
  {
   "cell_type": "code",
   "execution_count": 41,
   "metadata": {},
   "outputs": [],
   "source": [
    "vector = TfidfVectorizer(min_df=0)"
   ]
  },
  {
   "cell_type": "code",
   "execution_count": 42,
   "metadata": {},
   "outputs": [],
   "source": [
    "tet = ['unlike next eaten previous night dish completely recognizable notable best possible incarnation alinea delivers meal created willy wonka rules thrown window recount every course highlight dishes made laugh let know restaurant like place rules followed sanctuary allowed chef freedom go wherever imagination led example beverage choices explained six bowls containing blocks ice resting beds pebbles placed table without word said block hole drilled center made decisions drinking servers came table glass straws filled steelhead roe liquid stoppered either end foam instructed take straws fit perfectly sized hole filled ice melt inhale mixture single slurp quickly loudly could frigid rush roe herbs peach unsure whether fruit flavor came straw melt sweet salty made us giggle perfect start unusual meal life lamb 86 presented narrow plate containing three perfect pieces lamb prepared different manner two plexiglas shields placed center table 86 different garnishes none identified promised fitting accompaniments lamb cut three tender servings three smaller pieces could experience flavor combinations table turned guessing game plucked sides tempted us tried identify chosen every course unusual presentation courses astonished perfection alone hot potato cold potato told one oldest courses still remained alinea menu consisted paraffin bowl filled cold potato soup hot potato piece truffle held aloft skewer went lip bowl pull pin moment two ingredients met toss back soup time warm potato time chill two flavors temperatures came together tongue black truffle explosion served spoon chewed closed lips none delectable juice escaped awed science fictional nature presentations precise combination ingredients eaten exactly right moment one course makes clear dish must eaten served green apple helium balloon ingested upon delivery would fear end collapsing upon eaten skin balloon well string held made apply taffy told press lips balloon take bite inhale mouth filled immediately intense flavor apple helium well course soon talking amazing tasted sounding like mickey minnie mouse final course table cleared asked lift glasses silicone covering rolled servers brought many small bowls two metal jugs sweating condensation three white globes circular holes tops two chefs arrived began spooning contents bowls onto table scattering like culinary jackson pollacks identified freeze dried strawberry english pea buttermilk cream chefs lifted jug announced liquid nitrogen poured contents white globes caused fog rise cover table finally chefs lifted globes made white chocolate smashed upon table revealing goodies within meringues cotton candy miniature jelly donuts condensed honeydew melon took spoons attacked making much dent creation deserved meal end stepped restaurant four hours thirty nine minutes arrived yes meal took four hours thirty nine minutes assure feel much time passed oh going go cliche mode know sometimes said time stood still well time stand still per se let say alinea exist outside time pocket universe', 'purple pig one restaurants wanted try chicago extremely popular restaurant takes reservations called ask long wait would one night dinner told 2 1 2 hours another friend called independently told three hours noticed kitchen open midnight sundays decided wrangle bunch friends go sunday night meeting rather us arriving around 11 15 still wait get seated 20 minutes worth think ordered around dozen dishes five us including turned favorite jlt pork jowl tomato frisee fried duck egg pork fat runny egg yolk mingled perfectly making quite sensual visceral food experience also pig tails braised balsamic grated egg parsley roasted bone marrow herbs pig ear crispy kale pickled cherry peppers fried egg every dish perfectly prepared one friends vegetarian made sure order three dishes could including salt roasted beets whipped goat cheese pistachio vinaigrette good even rest us non vegetarians enjoyed finish think vegetarians eat well purple pig well unless watching others gorge pig puts even though stuffed order panini filled nutella marshmallow cream bananas perfect gooey way end meal torn rating 4 5 food definitely deserves 5 due wait issues think 4 1 2 definitely back assuming spare time long wait peak times go odd hours']"
   ]
  },
  {
   "cell_type": "code",
   "execution_count": 43,
   "metadata": {},
   "outputs": [],
   "source": [
    "tfidf = vector.fit_transform(tet)"
   ]
  },
  {
   "cell_type": "code",
   "execution_count": 44,
   "metadata": {},
   "outputs": [],
   "source": [
    "cosine = 1 - pairwise_distances(tfidf, metric='cosine')"
   ]
  },
  {
   "cell_type": "code",
   "execution_count": 37,
   "metadata": {},
   "outputs": [],
   "source": [
    "np.fill_diagonal(cosine, -np.inf)"
   ]
  },
  {
   "cell_type": "code",
   "execution_count": 46,
   "metadata": {},
   "outputs": [
    {
     "data": {
      "text/plain": [
       "array([1.        , 0.10406824, 0.10406824, 1.        ])"
      ]
     },
     "execution_count": 46,
     "metadata": {},
     "output_type": "execute_result"
    }
   ],
   "source": [
    "cosine.flatten()"
   ]
  },
  {
   "cell_type": "code",
   "execution_count": 40,
   "metadata": {},
   "outputs": [
    {
     "data": {
      "text/plain": [
       "{'reviewerID': 'bNYesZ944s6IJVowOnB0iA',\n",
       " 'reviewContent': ['unlike next eaten previous night dish completely recognizable notable best possible incarnation alinea delivers meal created willy wonka rules thrown window recount every course highlight dishes made laugh let know restaurant like place rules followed sanctuary allowed chef freedom go wherever imagination led example beverage choices explained six bowls containing blocks ice resting beds pebbles placed table without word said block hole drilled center made decisions drinking servers came table glass straws filled steelhead roe liquid stoppered either end foam instructed take straws fit perfectly sized hole filled ice melt inhale mixture single slurp quickly loudly could frigid rush roe herbs peach unsure whether fruit flavor came straw melt sweet salty made us giggle perfect start unusual meal life lamb 86 presented narrow plate containing three perfect pieces lamb prepared different manner two plexiglas shields placed center table 86 different garnishes none identified promised fitting accompaniments lamb cut three tender servings three smaller pieces could experience flavor combinations table turned guessing game plucked sides tempted us tried identify chosen every course unusual presentation courses astonished perfection alone hot potato cold potato told one oldest courses still remained alinea menu consisted paraffin bowl filled cold potato soup hot potato piece truffle held aloft skewer went lip bowl pull pin moment two ingredients met toss back soup time warm potato time chill two flavors temperatures came together tongue black truffle explosion served spoon chewed closed lips none delectable juice escaped awed science fictional nature presentations precise combination ingredients eaten exactly right moment one course makes clear dish must eaten served green apple helium balloon ingested upon delivery would fear end collapsing upon eaten skin balloon well string held made apply taffy told press lips balloon take bite inhale mouth filled immediately intense flavor apple helium well course soon talking amazing tasted sounding like mickey minnie mouse final course table cleared asked lift glasses silicone covering rolled servers brought many small bowls two metal jugs sweating condensation three white globes circular holes tops two chefs arrived began spooning contents bowls onto table scattering like culinary jackson pollacks identified freeze dried strawberry english pea buttermilk cream chefs lifted jug announced liquid nitrogen poured contents white globes caused fog rise cover table finally chefs lifted globes made white chocolate smashed upon table revealing goodies within meringues cotton candy miniature jelly donuts condensed honeydew melon took spoons attacked making much dent creation deserved meal end stepped restaurant four hours thirty nine minutes arrived yes meal took four hours thirty nine minutes assure feel much time passed oh going go cliche mode know sometimes said time stood still well time stand still per se let say alinea exist outside time pocket universe',\n",
       "  'purple pig one restaurants wanted try chicago extremely popular restaurant takes reservations called ask long wait would one night dinner told 2 1 2 hours another friend called independently told three hours noticed kitchen open midnight sundays decided wrangle bunch friends go sunday night meeting rather us arriving around 11 15 still wait get seated 20 minutes worth think ordered around dozen dishes five us including turned favorite jlt pork jowl tomato frisee fried duck egg pork fat runny egg yolk mingled perfectly making quite sensual visceral food experience also pig tails braised balsamic grated egg parsley roasted bone marrow herbs pig ear crispy kale pickled cherry peppers fried egg every dish perfectly prepared one friends vegetarian made sure order three dishes could including salt roasted beets whipped goat cheese pistachio vinaigrette good even rest us non vegetarians enjoyed finish think vegetarians eat well purple pig well unless watching others gorge pig puts even though stuffed order panini filled nutella marshmallow cream bananas perfect gooey way end meal torn rating 4 5 food definitely deserves 5 due wait issues think 4 1 2 definitely back assuming spare time long wait peak times go odd hours']}"
      ]
     },
     "execution_count": 40,
     "metadata": {},
     "output_type": "execute_result"
    }
   ],
   "source": [
    "individual_reviewer[0]"
   ]
  },
  {
   "cell_type": "code",
   "execution_count": null,
   "metadata": {},
   "outputs": [],
   "source": []
  }
 ],
 "metadata": {
  "kernelspec": {
   "display_name": "big-data-ca",
   "language": "python",
   "name": "big-data-ca"
  },
  "language_info": {
   "codemirror_mode": {
    "name": "ipython",
    "version": 3
   },
   "file_extension": ".py",
   "mimetype": "text/x-python",
   "name": "python",
   "nbconvert_exporter": "python",
   "pygments_lexer": "ipython3",
   "version": "3.6.9"
  }
 },
 "nbformat": 4,
 "nbformat_minor": 4
}
