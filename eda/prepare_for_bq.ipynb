{
 "cells": [
  {
   "cell_type": "code",
   "execution_count": 2,
   "metadata": {},
   "outputs": [],
   "source": [
    "import pandas as pd\n",
    "import time\n",
    "import datetime"
   ]
  },
  {
   "cell_type": "code",
   "execution_count": 10,
   "metadata": {},
   "outputs": [],
   "source": [
    "df = pd.read_csv(\"../data/df-raw.csv\")"
   ]
  },
  {
   "cell_type": "code",
   "execution_count": 11,
   "metadata": {},
   "outputs": [],
   "source": [
    "df = df.rename(columns={\n",
    "    \"reviewID\": \"review_id\",\n",
    "    \"reviewerID\": \"reviewer_id\",\n",
    "    \"restaurantID\": \"restaurant_id\",\n",
    "    \"date\": \"timestamp\",\n",
    "    \"rating\": \"rating\",\n",
    "    \"reviewContent\": \"review_content\",\n",
    "    \"friendCount\": \"friend_count\",\n",
    "    \"reviewCount\": \"review_count\",\n",
    "    \"usefulCount\": \"useful_count\",\n",
    "    \"coolCount\": \"cool_count\",\n",
    "    \"funnyCount\": \"funny_count\",\n",
    "    \"restaurantRating\": \"restaurant_rating\"\n",
    "})"
   ]
  },
  {
   "cell_type": "code",
   "execution_count": 12,
   "metadata": {},
   "outputs": [
    {
     "data": {
      "text/plain": [
       "Index(['review_id', 'reviewer_id', 'restaurant_id', 'timestamp', 'rating',\n",
       "       'reviewUsefulCount', 'review_content', 'friend_count', 'review_count',\n",
       "       'useful_count', 'cool_count', 'funny_count', 'restaurant_rating'],\n",
       "      dtype='object')"
      ]
     },
     "execution_count": 12,
     "metadata": {},
     "output_type": "execute_result"
    }
   ],
   "source": [
    "df.columns"
   ]
  },
  {
   "cell_type": "code",
   "execution_count": 13,
   "metadata": {},
   "outputs": [],
   "source": [
    "df.drop(columns=[\"reviewUsefulCount\"], inplace=True)"
   ]
  },
  {
   "cell_type": "code",
   "execution_count": 14,
   "metadata": {},
   "outputs": [],
   "source": [
    "df[\"timestamp\"] = df[\"timestamp\"].apply(lambda row: int(time.mktime(datetime.datetime.strptime(row, \"%m/%d/%Y\").timetuple())))"
   ]
  },
  {
   "cell_type": "code",
   "execution_count": 15,
   "metadata": {},
   "outputs": [],
   "source": [
    "df[\"timestamp\"] = df[\"timestamp\"].apply(lambda row: datetime.datetime.utcfromtimestamp(row).strftime('%Y-%m-%d 00:00:00'))"
   ]
  },
  {
   "cell_type": "code",
   "execution_count": 16,
   "metadata": {},
   "outputs": [
    {
     "data": {
      "text/plain": [
       "Index(['review_id', 'reviewer_id', 'restaurant_id', 'timestamp', 'rating',\n",
       "       'review_content', 'friend_count', 'review_count', 'useful_count',\n",
       "       'cool_count', 'funny_count', 'restaurant_rating'],\n",
       "      dtype='object')"
      ]
     },
     "execution_count": 16,
     "metadata": {},
     "output_type": "execute_result"
    }
   ],
   "source": [
    "df.columns"
   ]
  },
  {
   "cell_type": "code",
   "execution_count": 17,
   "metadata": {},
   "outputs": [],
   "source": [
    "df.to_csv(\"../data/yelp-restaurant-reviews-raw.csv\", index=False)"
   ]
  },
  {
   "cell_type": "code",
   "execution_count": null,
   "metadata": {},
   "outputs": [],
   "source": []
  }
 ],
 "metadata": {
  "kernelspec": {
   "display_name": "big-data-ca",
   "language": "python",
   "name": "big-data-ca"
  },
  "language_info": {
   "codemirror_mode": {
    "name": "ipython",
    "version": 3
   },
   "file_extension": ".py",
   "mimetype": "text/x-python",
   "name": "python",
   "nbconvert_exporter": "python",
   "pygments_lexer": "ipython3",
   "version": "3.6.9"
  }
 },
 "nbformat": 4,
 "nbformat_minor": 4
}
