{
 "cells": [
  {
   "cell_type": "code",
   "execution_count": 6,
   "metadata": {},
   "outputs": [],
   "source": [
    "# import unicodedata, re, inflect, nltk\n",
    "import nltk\n",
    "import pandas as pd\n",
    "from nltk.sentiment.vader import SentimentIntensityAnalyzer\n",
    "from numpy import mean"
   ]
  },
  {
   "cell_type": "code",
   "execution_count": 10,
   "metadata": {},
   "outputs": [
    {
     "name": "stdout",
     "output_type": "stream",
     "text": [
      "No of reviews:  5854\n"
     ]
    },
    {
     "name": "stderr",
     "output_type": "stream",
     "text": [
      "[nltk_data] Downloading package vader_lexicon to\n",
      "[nltk_data]     /Users/eduardchai/nltk_data...\n",
      "[nltk_data]   Package vader_lexicon is already up-to-date!\n"
     ]
    }
   ],
   "source": [
    "nltk.download('vader_lexicon')\n",
    "sia = SentimentIntensityAnalyzer()\n",
    "\n",
    "# check number of rows of reviews\n",
    "f1 = open(\"../data/output_review_yelpHotelData_NRYRcleaned.txt\", 'r')\n",
    "Lines = f1.readlines() \n",
    "  \n",
    "count = 0\n",
    "data = []\n",
    "# Strips the newline character \n",
    "\n",
    "text_list = list()\n",
    "for line in Lines:\n",
    "    data.append(line.strip('\\n'))\n",
    "\n",
    "#store reviews in pandas series\n",
    "reviews = pd.Series(data, name='review')\n",
    "print(\"No of reviews: \", reviews.count())"
   ]
  },
  {
   "cell_type": "code",
   "execution_count": 15,
   "metadata": {},
   "outputs": [
    {
     "name": "stdout",
     "output_type": "stream",
     "text": [
      "No of reviews:  date           5854\n",
      "review_id      5854\n",
      "reviewer_id    5854\n",
      "product_id     5854\n",
      "label          5854\n",
      "a              5854\n",
      "b              5854\n",
      "c              5854\n",
      "rating         5854\n",
      "dtype: int64\n"
     ]
    }
   ],
   "source": [
    "#check number of rows of metadata\n",
    "f2 = open(\"../data/output_meta_yelpHotelData_NRYRcleaned.txt\", 'r')\n",
    "lines = f2.readlines() \n",
    "\n",
    "count = 0\n",
    "metadata = []\n",
    "for l in lines:\n",
    "     row = (l.strip('\\n').split(\" \"))\n",
    "     metadata.append(row)\n",
    "\n",
    "cols = ['date', 'review_id', 'reviewer_id', 'product_id', 'label', 'a', 'b', 'c','rating']\n",
    "\n",
    "#store metadata in pandas dataframe\n",
    "df = pd.DataFrame.from_records(metadata, columns=cols)\n",
    "print(\"No of reviews: \", df.count())"
   ]
  },
  {
   "cell_type": "code",
   "execution_count": 16,
   "metadata": {},
   "outputs": [
    {
     "data": {
      "text/html": [
       "<div>\n",
       "<style scoped>\n",
       "    .dataframe tbody tr th:only-of-type {\n",
       "        vertical-align: middle;\n",
       "    }\n",
       "\n",
       "    .dataframe tbody tr th {\n",
       "        vertical-align: top;\n",
       "    }\n",
       "\n",
       "    .dataframe thead th {\n",
       "        text-align: right;\n",
       "    }\n",
       "</style>\n",
       "<table border=\"1\" class=\"dataframe\">\n",
       "  <thead>\n",
       "    <tr style=\"text-align: right;\">\n",
       "      <th></th>\n",
       "      <th>date</th>\n",
       "      <th>review_id</th>\n",
       "      <th>reviewer_id</th>\n",
       "      <th>product_id</th>\n",
       "      <th>label</th>\n",
       "      <th>a</th>\n",
       "      <th>b</th>\n",
       "      <th>c</th>\n",
       "      <th>rating</th>\n",
       "      <th>review</th>\n",
       "    </tr>\n",
       "  </thead>\n",
       "  <tbody>\n",
       "    <tr>\n",
       "      <th>0</th>\n",
       "      <td>6/8/2011</td>\n",
       "      <td>MyNjnxzZVTPq</td>\n",
       "      <td>IFTr6_6NI4CgCVavIL9k5g</td>\n",
       "      <td>tQfLGoolUMu2J0igcWcoZg</td>\n",
       "      <td>N</td>\n",
       "      <td>28</td>\n",
       "      <td>11</td>\n",
       "      <td>18</td>\n",
       "      <td>5</td>\n",
       "      <td>Let me begin by saying that there are two kind...</td>\n",
       "    </tr>\n",
       "    <tr>\n",
       "      <th>1</th>\n",
       "      <td>8/30/2011</td>\n",
       "      <td>BdD7fsPqHQL73hwENEDT-Q</td>\n",
       "      <td>c_-hF15XgNhlyy_TqzmdaA</td>\n",
       "      <td>tQfLGoolUMu2J0igcWcoZg</td>\n",
       "      <td>N</td>\n",
       "      <td>4</td>\n",
       "      <td>3</td>\n",
       "      <td>0</td>\n",
       "      <td>3</td>\n",
       "      <td>The only place inside the Loop that you can st...</td>\n",
       "    </tr>\n",
       "    <tr>\n",
       "      <th>2</th>\n",
       "      <td>6/26/2009</td>\n",
       "      <td>BfhqiyfC</td>\n",
       "      <td>CiwZ6S5ZizAFL5gypf8tLA</td>\n",
       "      <td>tQfLGoolUMu2J0igcWcoZg</td>\n",
       "      <td>N</td>\n",
       "      <td>23</td>\n",
       "      <td>14</td>\n",
       "      <td>12</td>\n",
       "      <td>5</td>\n",
       "      <td>I have walked by the Tokyo Hotel countless tim...</td>\n",
       "    </tr>\n",
       "    <tr>\n",
       "      <th>3</th>\n",
       "      <td>9/16/2010</td>\n",
       "      <td>Ol</td>\n",
       "      <td>nf3q2h-kSQoZK2jBY92FOg</td>\n",
       "      <td>tQfLGoolUMu2J0igcWcoZg</td>\n",
       "      <td>N</td>\n",
       "      <td>6</td>\n",
       "      <td>2</td>\n",
       "      <td>8</td>\n",
       "      <td>1</td>\n",
       "      <td>If you are considering staying here, watch thi...</td>\n",
       "    </tr>\n",
       "    <tr>\n",
       "      <th>4</th>\n",
       "      <td>2/5/2010</td>\n",
       "      <td>i4HIAcNTjabdpG1K4F5Q2g</td>\n",
       "      <td>Sb3DJGdZ4Rq__CqxPbae-g</td>\n",
       "      <td>tQfLGoolUMu2J0igcWcoZg</td>\n",
       "      <td>N</td>\n",
       "      <td>9</td>\n",
       "      <td>4</td>\n",
       "      <td>11</td>\n",
       "      <td>3</td>\n",
       "      <td>This place is disgusting, absolutely horrible,...</td>\n",
       "    </tr>\n",
       "  </tbody>\n",
       "</table>\n",
       "</div>"
      ],
      "text/plain": [
       "        date               review_id             reviewer_id  \\\n",
       "0   6/8/2011            MyNjnxzZVTPq  IFTr6_6NI4CgCVavIL9k5g   \n",
       "1  8/30/2011  BdD7fsPqHQL73hwENEDT-Q  c_-hF15XgNhlyy_TqzmdaA   \n",
       "2  6/26/2009                BfhqiyfC  CiwZ6S5ZizAFL5gypf8tLA   \n",
       "3  9/16/2010                      Ol  nf3q2h-kSQoZK2jBY92FOg   \n",
       "4   2/5/2010  i4HIAcNTjabdpG1K4F5Q2g  Sb3DJGdZ4Rq__CqxPbae-g   \n",
       "\n",
       "               product_id label   a   b   c rating  \\\n",
       "0  tQfLGoolUMu2J0igcWcoZg     N  28  11  18      5   \n",
       "1  tQfLGoolUMu2J0igcWcoZg     N   4   3   0      3   \n",
       "2  tQfLGoolUMu2J0igcWcoZg     N  23  14  12      5   \n",
       "3  tQfLGoolUMu2J0igcWcoZg     N   6   2   8      1   \n",
       "4  tQfLGoolUMu2J0igcWcoZg     N   9   4  11      3   \n",
       "\n",
       "                                              review  \n",
       "0  Let me begin by saying that there are two kind...  \n",
       "1  The only place inside the Loop that you can st...  \n",
       "2  I have walked by the Tokyo Hotel countless tim...  \n",
       "3  If you are considering staying here, watch thi...  \n",
       "4  This place is disgusting, absolutely horrible,...  "
      ]
     },
     "execution_count": 16,
     "metadata": {},
     "output_type": "execute_result"
    }
   ],
   "source": [
    "yelp = pd.concat([df,reviews], axis=1)\n",
    "yelp.head()"
   ]
  },
  {
   "cell_type": "code",
   "execution_count": 30,
   "metadata": {},
   "outputs": [
    {
     "ename": "ValueError",
     "evalue": "The truth value of a Series is ambiguous. Use a.empty, a.bool(), a.item(), a.any() or a.all().",
     "output_type": "error",
     "traceback": [
      "\u001b[0;31m---------------------------------------------------------------------------\u001b[0m",
      "\u001b[0;31mValueError\u001b[0m                                Traceback (most recent call last)",
      "\u001b[0;32m<ipython-input-30-ae4a0121e7a9>\u001b[0m in \u001b[0;36m<module>\u001b[0;34m\u001b[0m\n\u001b[1;32m      4\u001b[0m \u001b[0;34m\u001b[0m\u001b[0m\n\u001b[1;32m      5\u001b[0m \u001b[0;31m# yelp[\"timestamp\"] = yelp[\"date\"].apply(lambda row: int(time.mktime(datetime.datetime.strptime(row, \"%m/%d/%Y\").timetuple())))\u001b[0m\u001b[0;34m\u001b[0m\u001b[0;34m\u001b[0m\u001b[0;34m\u001b[0m\u001b[0m\n\u001b[0;32m----> 6\u001b[0;31m \u001b[0myelp\u001b[0m\u001b[0;34m[\u001b[0m\u001b[0;34m\"label\"\u001b[0m\u001b[0;34m]\u001b[0m \u001b[0;34m=\u001b[0m \u001b[0;32mFalse\u001b[0m \u001b[0;32mif\u001b[0m \u001b[0myelp\u001b[0m\u001b[0;34m[\u001b[0m\u001b[0;34m\"label\"\u001b[0m\u001b[0;34m]\u001b[0m \u001b[0;34m==\u001b[0m \u001b[0;34m\"N\"\u001b[0m \u001b[0;32melse\u001b[0m \u001b[0;32mTrue\u001b[0m\u001b[0;34m\u001b[0m\u001b[0;34m\u001b[0m\u001b[0m\n\u001b[0m",
      "\u001b[0;32m~/miniconda/envs/big-data-ca/lib/python3.6/site-packages/pandas/core/generic.py\u001b[0m in \u001b[0;36m__nonzero__\u001b[0;34m(self)\u001b[0m\n\u001b[1;32m   1477\u001b[0m     \u001b[0;32mdef\u001b[0m \u001b[0m__nonzero__\u001b[0m\u001b[0;34m(\u001b[0m\u001b[0mself\u001b[0m\u001b[0;34m)\u001b[0m\u001b[0;34m:\u001b[0m\u001b[0;34m\u001b[0m\u001b[0;34m\u001b[0m\u001b[0m\n\u001b[1;32m   1478\u001b[0m         raise ValueError(\n\u001b[0;32m-> 1479\u001b[0;31m             \u001b[0;34mf\"The truth value of a {type(self).__name__} is ambiguous. \"\u001b[0m\u001b[0;34m\u001b[0m\u001b[0;34m\u001b[0m\u001b[0m\n\u001b[0m\u001b[1;32m   1480\u001b[0m             \u001b[0;34m\"Use a.empty, a.bool(), a.item(), a.any() or a.all().\"\u001b[0m\u001b[0;34m\u001b[0m\u001b[0;34m\u001b[0m\u001b[0m\n\u001b[1;32m   1481\u001b[0m         )\n",
      "\u001b[0;31mValueError\u001b[0m: The truth value of a Series is ambiguous. Use a.empty, a.bool(), a.item(), a.any() or a.all()."
     ]
    }
   ],
   "source": [
    "# Convert date to timestamp\n",
    "import time\n",
    "import datetime\n",
    "\n",
    "yelp[\"timestamp\"] = yelp[\"date\"].apply(lambda row: int(time.mktime(datetime.datetime.strptime(row, \"%m/%d/%Y\").timetuple())))"
   ]
  },
  {
   "cell_type": "code",
   "execution_count": 28,
   "metadata": {},
   "outputs": [],
   "source": [
    "yelp = yelp.drop(columns=\"date\")"
   ]
  },
  {
   "cell_type": "code",
   "execution_count": 37,
   "metadata": {},
   "outputs": [],
   "source": [
    "yelp[\"label\"] = yelp[\"label\"].apply(lambda row: \"true\" if row else \"false\")"
   ]
  },
  {
   "cell_type": "code",
   "execution_count": 39,
   "metadata": {},
   "outputs": [],
   "source": [
    "yelp.to_csv(\"../data/yelp-hotel-reviews.csv\", index=False)"
   ]
  },
  {
   "cell_type": "code",
   "execution_count": 38,
   "metadata": {},
   "outputs": [
    {
     "data": {
      "text/html": [
       "<div>\n",
       "<style scoped>\n",
       "    .dataframe tbody tr th:only-of-type {\n",
       "        vertical-align: middle;\n",
       "    }\n",
       "\n",
       "    .dataframe tbody tr th {\n",
       "        vertical-align: top;\n",
       "    }\n",
       "\n",
       "    .dataframe thead th {\n",
       "        text-align: right;\n",
       "    }\n",
       "</style>\n",
       "<table border=\"1\" class=\"dataframe\">\n",
       "  <thead>\n",
       "    <tr style=\"text-align: right;\">\n",
       "      <th></th>\n",
       "      <th>review_id</th>\n",
       "      <th>reviewer_id</th>\n",
       "      <th>product_id</th>\n",
       "      <th>label</th>\n",
       "      <th>a</th>\n",
       "      <th>b</th>\n",
       "      <th>c</th>\n",
       "      <th>rating</th>\n",
       "      <th>review</th>\n",
       "      <th>timestamp</th>\n",
       "    </tr>\n",
       "  </thead>\n",
       "  <tbody>\n",
       "    <tr>\n",
       "      <th>5849</th>\n",
       "      <td>4d3lJEG5RgDDS_PimakHDw</td>\n",
       "      <td>eIOn-m017t7nu3FGpasPTg</td>\n",
       "      <td>gCdjyQeE0uRKCh7mVmnZzQ</td>\n",
       "      <td>true</td>\n",
       "      <td>0</td>\n",
       "      <td>0</td>\n",
       "      <td>0</td>\n",
       "      <td>5</td>\n",
       "      <td>This hotel is amazing! Granted, I worked here,...</td>\n",
       "      <td>1224000000</td>\n",
       "    </tr>\n",
       "    <tr>\n",
       "      <th>5850</th>\n",
       "      <td>M9sPYJENivJyWYuLwy7SCw</td>\n",
       "      <td>oVzvotuHA5u5Ob0E7i58Cw</td>\n",
       "      <td>rpP9iZsT3NC-Z4pUtQGoiA</td>\n",
       "      <td>true</td>\n",
       "      <td>0</td>\n",
       "      <td>0</td>\n",
       "      <td>0</td>\n",
       "      <td>3</td>\n",
       "      <td>Short Version: I am very torn about this place...</td>\n",
       "      <td>1313942400</td>\n",
       "    </tr>\n",
       "    <tr>\n",
       "      <th>5851</th>\n",
       "      <td>IErE0ydkkLfAoePgqrVdUQ</td>\n",
       "      <td>wKPzlSO-Vyrzk8JlXr0cyQ</td>\n",
       "      <td>rpP9iZsT3NC-Z4pUtQGoiA</td>\n",
       "      <td>true</td>\n",
       "      <td>0</td>\n",
       "      <td>0</td>\n",
       "      <td>0</td>\n",
       "      <td>4</td>\n",
       "      <td>Sutton Place is a very elegant hotel. The room...</td>\n",
       "      <td>1304265600</td>\n",
       "    </tr>\n",
       "    <tr>\n",
       "      <th>5852</th>\n",
       "      <td>NnkA6YT9xo_IaZ5xZI_5zQ</td>\n",
       "      <td>SL4aEwrM2q0HAXHpduMQ1Q</td>\n",
       "      <td>rpP9iZsT3NC-Z4pUtQGoiA</td>\n",
       "      <td>true</td>\n",
       "      <td>0</td>\n",
       "      <td>0</td>\n",
       "      <td>0</td>\n",
       "      <td>1</td>\n",
       "      <td>The only great thing is location. Rest of the ...</td>\n",
       "      <td>1292688000</td>\n",
       "    </tr>\n",
       "    <tr>\n",
       "      <th>5853</th>\n",
       "      <td>xwPMoEzuvpn3J32IvTcsiQ</td>\n",
       "      <td>MdYbNl_9Hm1CybsuC6UnkQ</td>\n",
       "      <td>rpP9iZsT3NC-Z4pUtQGoiA</td>\n",
       "      <td>true</td>\n",
       "      <td>0</td>\n",
       "      <td>0</td>\n",
       "      <td>0</td>\n",
       "      <td>1</td>\n",
       "      <td>Noise, noise, noise! Unbelievable! Between the...</td>\n",
       "      <td>1280937600</td>\n",
       "    </tr>\n",
       "  </tbody>\n",
       "</table>\n",
       "</div>"
      ],
      "text/plain": [
       "                   review_id             reviewer_id              product_id  \\\n",
       "5849  4d3lJEG5RgDDS_PimakHDw  eIOn-m017t7nu3FGpasPTg  gCdjyQeE0uRKCh7mVmnZzQ   \n",
       "5850  M9sPYJENivJyWYuLwy7SCw  oVzvotuHA5u5Ob0E7i58Cw  rpP9iZsT3NC-Z4pUtQGoiA   \n",
       "5851  IErE0ydkkLfAoePgqrVdUQ  wKPzlSO-Vyrzk8JlXr0cyQ  rpP9iZsT3NC-Z4pUtQGoiA   \n",
       "5852  NnkA6YT9xo_IaZ5xZI_5zQ  SL4aEwrM2q0HAXHpduMQ1Q  rpP9iZsT3NC-Z4pUtQGoiA   \n",
       "5853  xwPMoEzuvpn3J32IvTcsiQ  MdYbNl_9Hm1CybsuC6UnkQ  rpP9iZsT3NC-Z4pUtQGoiA   \n",
       "\n",
       "     label  a  b  c rating                                             review  \\\n",
       "5849  true  0  0  0      5  This hotel is amazing! Granted, I worked here,...   \n",
       "5850  true  0  0  0      3  Short Version: I am very torn about this place...   \n",
       "5851  true  0  0  0      4  Sutton Place is a very elegant hotel. The room...   \n",
       "5852  true  0  0  0      1  The only great thing is location. Rest of the ...   \n",
       "5853  true  0  0  0      1  Noise, noise, noise! Unbelievable! Between the...   \n",
       "\n",
       "       timestamp  \n",
       "5849  1224000000  \n",
       "5850  1313942400  \n",
       "5851  1304265600  \n",
       "5852  1292688000  \n",
       "5853  1280937600  "
      ]
     },
     "execution_count": 38,
     "metadata": {},
     "output_type": "execute_result"
    }
   ],
   "source": [
    "yelp.tail()"
   ]
  },
  {
   "cell_type": "code",
   "execution_count": 40,
   "metadata": {},
   "outputs": [
    {
     "data": {
      "text/plain": [
       "array(['false', 'true'], dtype=object)"
      ]
     },
     "execution_count": 40,
     "metadata": {},
     "output_type": "execute_result"
    }
   ],
   "source": [
    "yelp[\"label\"].unique()"
   ]
  },
  {
   "cell_type": "code",
   "execution_count": null,
   "metadata": {},
   "outputs": [],
   "source": []
  }
 ],
 "metadata": {
  "kernelspec": {
   "display_name": "big-data-ca",
   "language": "python",
   "name": "big-data-ca"
  },
  "language_info": {
   "codemirror_mode": {
    "name": "ipython",
    "version": 3
   },
   "file_extension": ".py",
   "mimetype": "text/x-python",
   "name": "python",
   "nbconvert_exporter": "python",
   "pygments_lexer": "ipython3",
   "version": "3.6.9"
  }
 },
 "nbformat": 4,
 "nbformat_minor": 4
}
