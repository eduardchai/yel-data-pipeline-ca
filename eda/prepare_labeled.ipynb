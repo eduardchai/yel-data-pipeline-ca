{
 "cells": [
  {
   "cell_type": "code",
   "execution_count": 1,
   "metadata": {},
   "outputs": [],
   "source": [
    "import pandas as pd\n",
    "import time\n",
    "import datetime"
   ]
  },
  {
   "cell_type": "code",
   "execution_count": 2,
   "metadata": {},
   "outputs": [],
   "source": [
    "df = pd.read_csv(\"../data/df.csv\")"
   ]
  },
  {
   "cell_type": "code",
   "execution_count": 3,
   "metadata": {},
   "outputs": [
    {
     "data": {
      "text/plain": [
       "Index(['reviewID', 'reviewerID', 'restaurantID', 'date', 'rating',\n",
       "       'reviewUsefulCount', 'reviewContent', 'flagged', 'name', 'location',\n",
       "       'yelpJoinDate', 'friendCount', 'reviewCount', 'firstCount',\n",
       "       'usefulCount', 'coolCount', 'funnyCount', 'complimentCount', 'tipCount',\n",
       "       'fanCount', 'restaurantRating', 'mnr', 'rl', 'rd',\n",
       "       'Maximum Content Similarity'],\n",
       "      dtype='object')"
      ]
     },
     "execution_count": 3,
     "metadata": {},
     "output_type": "execute_result"
    }
   ],
   "source": [
    "df.columns"
   ]
  },
  {
   "cell_type": "code",
   "execution_count": 4,
   "metadata": {},
   "outputs": [],
   "source": [
    "df_cleaned = df.drop(columns=[\n",
    "    \"reviewUsefulCount\",\n",
    "    \"name\",\n",
    "    \"location\",\n",
    "    \"yelpJoinDate\",\n",
    "    \"firstCount\",\n",
    "    \"complimentCount\",\n",
    "    \"tipCount\",\n",
    "    \"fanCount\"\n",
    "])"
   ]
  },
  {
   "cell_type": "code",
   "execution_count": 15,
   "metadata": {},
   "outputs": [],
   "source": [
    "df_renamed = df_cleaned.rename(columns={\n",
    "    'reviewID': \"review_id\", \n",
    "    'reviewerID': \"reviewer_id\", \n",
    "    'restaurantID': \"restaurant_id\", \n",
    "    'date': \"timestamp\", \n",
    "    'reviewContent': \"review_content\", \n",
    "    'friendCount': \"friend_count\", \n",
    "    'reviewCount': \"review_count\", \n",
    "    'usefulCount': \"useful_count\",\n",
    "    'coolCount': \"cool_count\", \n",
    "    'funnyCount': \"funny_count\", \n",
    "    'restaurantRating': \"restaurant_rating\", \n",
    "    'mnr': \"maximum_review_per_user\", \n",
    "    'rl': \"review_length\", \n",
    "    'rd': \"rating_deviation\",\n",
    "    'Maximum Content Similarity': \"cos_sim\"\n",
    "})"
   ]
  },
  {
   "cell_type": "code",
   "execution_count": 17,
   "metadata": {},
   "outputs": [],
   "source": [
    "df_renamed[\"timestamp\"] = df_renamed[\"timestamp\"].apply(lambda row: int(time.mktime(datetime.datetime.strptime(row, \"%m/%d/%Y\").timetuple())))"
   ]
  },
  {
   "cell_type": "code",
   "execution_count": 18,
   "metadata": {},
   "outputs": [],
   "source": [
    "df_renamed[\"timestamp\"] = df_renamed[\"timestamp\"].apply(lambda row: datetime.datetime.utcfromtimestamp(row).strftime('%Y-%m-%d 00:00:00'))"
   ]
  },
  {
   "cell_type": "code",
   "execution_count": 19,
   "metadata": {},
   "outputs": [
    {
     "data": {
      "text/plain": [
       "Index(['review_id', 'reviewer_id', 'restaurant_id', 'timestamp', 'rating',\n",
       "       'review_content', 'flagged', 'friend_count', 'review_count',\n",
       "       'useful_count', 'cool_count', 'funny_count', 'restaurant_rating',\n",
       "       'maximum_review_per_user', 'review_length', 'rating_deviation',\n",
       "       'cos_sim'],\n",
       "      dtype='object')"
      ]
     },
     "execution_count": 19,
     "metadata": {},
     "output_type": "execute_result"
    }
   ],
   "source": [
    "df_renamed.columns"
   ]
  },
  {
   "cell_type": "code",
   "execution_count": 22,
   "metadata": {},
   "outputs": [],
   "source": [
    "df_rearrange = df_renamed[['review_id', 'reviewer_id', 'restaurant_id', 'timestamp', 'rating',\n",
    "       'review_content', 'friend_count', 'review_count',\n",
    "       'useful_count', 'cool_count', 'funny_count', 'restaurant_rating',\n",
    "       'review_length', 'rating_deviation', 'maximum_review_per_user',\n",
    "       'cos_sim', 'flagged']]"
   ]
  },
  {
   "cell_type": "code",
   "execution_count": 23,
   "metadata": {},
   "outputs": [],
   "source": [
    "df_rearrange.to_csv(\"../data/yelp-restaurant-reviews-labeled.csv\", index=False)"
   ]
  },
  {
   "cell_type": "code",
   "execution_count": null,
   "metadata": {},
   "outputs": [],
   "source": []
  }
 ],
 "metadata": {
  "kernelspec": {
   "display_name": "big-data-ca",
   "language": "python",
   "name": "big-data-ca"
  },
  "language_info": {
   "codemirror_mode": {
    "name": "ipython",
    "version": 3
   },
   "file_extension": ".py",
   "mimetype": "text/x-python",
   "name": "python",
   "nbconvert_exporter": "python",
   "pygments_lexer": "ipython3",
   "version": "3.6.9"
  }
 },
 "nbformat": 4,
 "nbformat_minor": 4
}
