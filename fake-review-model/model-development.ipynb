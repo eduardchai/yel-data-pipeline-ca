{
 "cells": [
  {
   "cell_type": "code",
   "execution_count": 1,
   "metadata": {},
   "outputs": [],
   "source": [
    "import warnings\n",
    "warnings.filterwarnings('ignore')"
   ]
  },
  {
   "cell_type": "code",
   "execution_count": 2,
   "metadata": {},
   "outputs": [],
   "source": [
    "import os\n",
    "import matplotlib.pyplot as plt\n",
    "import pandas as pd\n",
    "import numpy as np\n",
    "\n",
    "from sklearn.ensemble import RandomForestClassifier\n",
    "from sklearn.naive_bayes import GaussianNB\n",
    "from sklearn.metrics import accuracy_score, recall_score, precision_score, f1_score, pairwise_distances\n",
    "from sklearn.metrics import confusion_matrix\n",
    "from sklearn.model_selection import train_test_split\n",
    "\n",
    "from google.cloud import bigquery\n",
    "from time import time\n",
    "from tqdm import tqdm"
   ]
  },
  {
   "cell_type": "markdown",
   "metadata": {},
   "source": [
    "## Create BQ Client"
   ]
  },
  {
   "cell_type": "code",
   "execution_count": 3,
   "metadata": {},
   "outputs": [],
   "source": [
    "os.environ[\"GOOGLE_APPLICATION_CREDENTIALS\"] = \"/Users/eduardchai/Workspace/NUS/eb5001-big-data-for-analytics/CA/big-data-ca-svc-acc.json\""
   ]
  },
  {
   "cell_type": "code",
   "execution_count": 4,
   "metadata": {},
   "outputs": [],
   "source": [
    "client = bigquery.Client()"
   ]
  },
  {
   "cell_type": "markdown",
   "metadata": {},
   "source": [
    "## Load data"
   ]
  },
  {
   "cell_type": "code",
   "execution_count": 5,
   "metadata": {},
   "outputs": [],
   "source": [
    "sql = \"\"\"\n",
    "    SELECT *\n",
    "    FROM `big-data-project-272506.yelp_dataset.restaurant_reviews_labeled`\n",
    "\"\"\"\n",
    "\n",
    "# Run a Standard SQL query using the environment's default project\n",
    "df = client.query(sql).to_dataframe()\n",
    "\n",
    "# Run a Standard SQL query with the project set explicitly\n",
    "project_id = 'big-data-project-272506'\n",
    "df = client.query(sql, project=project_id).to_dataframe()"
   ]
  },
  {
   "cell_type": "code",
   "execution_count": 6,
   "metadata": {},
   "outputs": [],
   "source": [
    "df.loc[df.flagged == True, \"flagged\"] = 'Y'\n",
    "df.loc[df.flagged == False, \"flagged\"] = 'N'"
   ]
  },
  {
   "cell_type": "code",
   "execution_count": 7,
   "metadata": {},
   "outputs": [
    {
     "data": {
      "text/html": [
       "<div>\n",
       "<style scoped>\n",
       "    .dataframe tbody tr th:only-of-type {\n",
       "        vertical-align: middle;\n",
       "    }\n",
       "\n",
       "    .dataframe tbody tr th {\n",
       "        vertical-align: top;\n",
       "    }\n",
       "\n",
       "    .dataframe thead th {\n",
       "        text-align: right;\n",
       "    }\n",
       "</style>\n",
       "<table border=\"1\" class=\"dataframe\">\n",
       "  <thead>\n",
       "    <tr style=\"text-align: right;\">\n",
       "      <th></th>\n",
       "      <th>review_id</th>\n",
       "      <th>reviewer_id</th>\n",
       "      <th>restaurant_id</th>\n",
       "      <th>timestamp</th>\n",
       "      <th>rating</th>\n",
       "      <th>review_content</th>\n",
       "      <th>friend_count</th>\n",
       "      <th>review_count</th>\n",
       "      <th>useful_count</th>\n",
       "      <th>cool_count</th>\n",
       "      <th>funny_count</th>\n",
       "      <th>restaurant_rating</th>\n",
       "      <th>review_length</th>\n",
       "      <th>rating_deviation</th>\n",
       "      <th>maximum_review_per_user</th>\n",
       "      <th>cos_sim</th>\n",
       "      <th>flagged</th>\n",
       "    </tr>\n",
       "  </thead>\n",
       "  <tbody>\n",
       "    <tr>\n",
       "      <th>0</th>\n",
       "      <td>04ysG-RSQGZV7sRMz71erw</td>\n",
       "      <td>jX4TK6exUYHD2It14AVWQQ</td>\n",
       "      <td>ElCbMJRjgu9LDj4MxOKXew</td>\n",
       "      <td>2008-07-27 00:00:00+00:00</td>\n",
       "      <td>4</td>\n",
       "      <td>i went opening big jones months ago wanted vis...</td>\n",
       "      <td>0</td>\n",
       "      <td>16</td>\n",
       "      <td>5</td>\n",
       "      <td>3</td>\n",
       "      <td>4</td>\n",
       "      <td>4.0</td>\n",
       "      <td>174</td>\n",
       "      <td>0.000</td>\n",
       "      <td>0.083333</td>\n",
       "      <td>0.189505</td>\n",
       "      <td>N</td>\n",
       "    </tr>\n",
       "    <tr>\n",
       "      <th>1</th>\n",
       "      <td>KfnPUynUi-kcnkxWP3srfw</td>\n",
       "      <td>y0EdiHf1fbpjYj2kJCOo2w</td>\n",
       "      <td>mlhHPnHmjO2_ypcP5Vc9Zw</td>\n",
       "      <td>2008-07-27 00:00:00+00:00</td>\n",
       "      <td>4</td>\n",
       "      <td>since i can t bring give sushi less 4 stars cu...</td>\n",
       "      <td>45</td>\n",
       "      <td>98</td>\n",
       "      <td>173</td>\n",
       "      <td>116</td>\n",
       "      <td>107</td>\n",
       "      <td>4.0</td>\n",
       "      <td>178</td>\n",
       "      <td>0.000</td>\n",
       "      <td>0.083333</td>\n",
       "      <td>0.193914</td>\n",
       "      <td>N</td>\n",
       "    </tr>\n",
       "    <tr>\n",
       "      <th>2</th>\n",
       "      <td>gXG9Mefjxn5cxZuoGlOOHg</td>\n",
       "      <td>II0AaBmdlsqEkiAGIf0LTQ</td>\n",
       "      <td>NGfbRjWoqUh2fGw8DU_pmA</td>\n",
       "      <td>2008-07-27 00:00:00+00:00</td>\n",
       "      <td>4</td>\n",
       "      <td>i wanting try place while my last attempt go t...</td>\n",
       "      <td>52</td>\n",
       "      <td>118</td>\n",
       "      <td>193</td>\n",
       "      <td>125</td>\n",
       "      <td>64</td>\n",
       "      <td>4.0</td>\n",
       "      <td>123</td>\n",
       "      <td>0.000</td>\n",
       "      <td>0.083333</td>\n",
       "      <td>0.253117</td>\n",
       "      <td>N</td>\n",
       "    </tr>\n",
       "    <tr>\n",
       "      <th>3</th>\n",
       "      <td>RlUwOr152LgaBypArWOrSA</td>\n",
       "      <td>ImQnqjGKSbfcgnz2ZPJrnw</td>\n",
       "      <td>4wreIFjaPMppyEnzKHbozg</td>\n",
       "      <td>2008-07-27 00:00:00+00:00</td>\n",
       "      <td>4</td>\n",
       "      <td>we went grand lux saturday night great experie...</td>\n",
       "      <td>0</td>\n",
       "      <td>2</td>\n",
       "      <td>0</td>\n",
       "      <td>0</td>\n",
       "      <td>0</td>\n",
       "      <td>3.5</td>\n",
       "      <td>54</td>\n",
       "      <td>0.125</td>\n",
       "      <td>0.083333</td>\n",
       "      <td>0.000000</td>\n",
       "      <td>Y</td>\n",
       "    </tr>\n",
       "    <tr>\n",
       "      <th>4</th>\n",
       "      <td>-JAZs7Y9MNfOCZjI5yY5Ug</td>\n",
       "      <td>HrTV66_qrreR4fWvspdJ9g</td>\n",
       "      <td>CQ75CQSyrsmb-S3UAwCHpw</td>\n",
       "      <td>2008-07-27 00:00:00+00:00</td>\n",
       "      <td>5</td>\n",
       "      <td>food 4 quality service made 5 stars my wife bo...</td>\n",
       "      <td>0</td>\n",
       "      <td>1</td>\n",
       "      <td>0</td>\n",
       "      <td>0</td>\n",
       "      <td>0</td>\n",
       "      <td>4.0</td>\n",
       "      <td>111</td>\n",
       "      <td>0.250</td>\n",
       "      <td>0.083333</td>\n",
       "      <td>0.000000</td>\n",
       "      <td>Y</td>\n",
       "    </tr>\n",
       "  </tbody>\n",
       "</table>\n",
       "</div>"
      ],
      "text/plain": [
       "                review_id             reviewer_id           restaurant_id  \\\n",
       "0  04ysG-RSQGZV7sRMz71erw  jX4TK6exUYHD2It14AVWQQ  ElCbMJRjgu9LDj4MxOKXew   \n",
       "1  KfnPUynUi-kcnkxWP3srfw  y0EdiHf1fbpjYj2kJCOo2w  mlhHPnHmjO2_ypcP5Vc9Zw   \n",
       "2  gXG9Mefjxn5cxZuoGlOOHg  II0AaBmdlsqEkiAGIf0LTQ  NGfbRjWoqUh2fGw8DU_pmA   \n",
       "3  RlUwOr152LgaBypArWOrSA  ImQnqjGKSbfcgnz2ZPJrnw  4wreIFjaPMppyEnzKHbozg   \n",
       "4  -JAZs7Y9MNfOCZjI5yY5Ug  HrTV66_qrreR4fWvspdJ9g  CQ75CQSyrsmb-S3UAwCHpw   \n",
       "\n",
       "                  timestamp  rating  \\\n",
       "0 2008-07-27 00:00:00+00:00       4   \n",
       "1 2008-07-27 00:00:00+00:00       4   \n",
       "2 2008-07-27 00:00:00+00:00       4   \n",
       "3 2008-07-27 00:00:00+00:00       4   \n",
       "4 2008-07-27 00:00:00+00:00       5   \n",
       "\n",
       "                                      review_content  friend_count  \\\n",
       "0  i went opening big jones months ago wanted vis...             0   \n",
       "1  since i can t bring give sushi less 4 stars cu...            45   \n",
       "2  i wanting try place while my last attempt go t...            52   \n",
       "3  we went grand lux saturday night great experie...             0   \n",
       "4  food 4 quality service made 5 stars my wife bo...             0   \n",
       "\n",
       "   review_count  useful_count  cool_count  funny_count  restaurant_rating  \\\n",
       "0            16             5           3            4                4.0   \n",
       "1            98           173         116          107                4.0   \n",
       "2           118           193         125           64                4.0   \n",
       "3             2             0           0            0                3.5   \n",
       "4             1             0           0            0                4.0   \n",
       "\n",
       "   review_length  rating_deviation  maximum_review_per_user   cos_sim flagged  \n",
       "0            174             0.000                 0.083333  0.189505       N  \n",
       "1            178             0.000                 0.083333  0.193914       N  \n",
       "2            123             0.000                 0.083333  0.253117       N  \n",
       "3             54             0.125                 0.083333  0.000000       Y  \n",
       "4            111             0.250                 0.083333  0.000000       Y  "
      ]
     },
     "execution_count": 7,
     "metadata": {},
     "output_type": "execute_result"
    }
   ],
   "source": [
    "df.head()"
   ]
  },
  {
   "cell_type": "markdown",
   "metadata": {},
   "source": [
    "## Utils"
   ]
  },
  {
   "cell_type": "code",
   "execution_count": 8,
   "metadata": {},
   "outputs": [],
   "source": [
    "def under_sampling(df):\n",
    "    print(\"Under-Sampling Data\")\n",
    "    # Count of Reviews\n",
    "    sample_size = len(df[(df['flagged'] == 'Y')])\n",
    "\n",
    "    authentic_reviews_df = df[df['flagged'] == 'N']\n",
    "    fake_reviews_df = df[df['flagged'] == 'Y']\n",
    "\n",
    "    authentic_reviews_us_df = authentic_reviews_df.sample(sample_size)\n",
    "    under_sampled_df = pd.concat([authentic_reviews_us_df, fake_reviews_df], axis=0)\n",
    "    print(\"Under-Sampling Complete\")\n",
    "    return under_sampled_df\n",
    "\n",
    "\n",
    "def semi_supervised_learning(df, model, algorithm, threshold=0.8, iterations=40):\n",
    "    df = df.copy()\n",
    "    print(\"Training \"+algorithm+\" Model\")\n",
    "    labels = df['flagged']\n",
    "\n",
    "    df.drop(['review_id', 'reviewer_id', 'restaurant_id', 'timestamp', 'flagged',\n",
    "             'review_content', 'restaurant_rating'], axis=1, inplace=True)\n",
    "\n",
    "    train_data, test_data, train_label, test_label = train_test_split(df, labels, test_size=0.25, random_state=42)\n",
    "\n",
    "    test_data_copy = test_data.copy()\n",
    "    test_label_copy = test_label.copy()\n",
    "\n",
    "    all_labeled = False\n",
    "\n",
    "    current_iteration = 0\n",
    "\n",
    "    pbar = tqdm(total=iterations)\n",
    "\n",
    "    while not all_labeled and (current_iteration < iterations):\n",
    "        # print(\"Before train data length : \", len(train_data))\n",
    "        # print(\"Before test data length : \", len(test_data))\n",
    "        current_iteration += 1\n",
    "        model.fit(train_data, train_label)\n",
    "\n",
    "        probabilities = model.predict_proba(test_data)\n",
    "        pseudo_labels = model.predict(test_data)\n",
    "\n",
    "        indices = np.argwhere(probabilities > threshold)\n",
    "\n",
    "        # print(\"rows above threshold : \", len(indices))\n",
    "        for item in indices:\n",
    "            train_data.loc[test_data.index[item[0]]] = test_data.iloc[item[0]]\n",
    "            train_label.loc[test_data.index[item[0]]] = pseudo_labels[item[0]]\n",
    "        test_data.drop(test_data.index[indices[:, 0]], inplace=True)\n",
    "        test_label.drop(test_label.index[indices[:, 0]], inplace=True)\n",
    "        print(\"After train data length : \", len(train_data))\n",
    "        print(\"After test data length : \", len(test_data))\n",
    "        print(\"--\" * 20)\n",
    "\n",
    "        if len(test_data) == 0:\n",
    "            print(\"Exiting loop\")\n",
    "            all_labeled = True\n",
    "        pbar.update(1)\n",
    "    pbar.close()\n",
    "    predicted_labels = model.predict(test_data_copy)\n",
    "\n",
    "    # print('Best Params : ', grid_clf_acc.best_params_)\n",
    "    print(algorithm + ' Model Results')\n",
    "    print('--' * 20)\n",
    "    print('Accuracy Score : ' + str(accuracy_score(test_label_copy, predicted_labels)))\n",
    "    print('Precision Score : ' + str(precision_score(test_label_copy, predicted_labels, pos_label=\"Y\")))\n",
    "    print('Recall Score : ' + str(recall_score(test_label_copy, predicted_labels, pos_label=\"Y\")))\n",
    "    print('F1 Score : ' + str(f1_score(test_label_copy, predicted_labels, pos_label=\"Y\")))\n",
    "    print('Confusion Matrix : \\n' + str(confusion_matrix(test_label_copy, predicted_labels)))\n",
    "    plot_confusion_matrix(test_label_copy, predicted_labels, classes=['N', 'Y'],\n",
    "                          title=algorithm + ' Confusion Matrix').show()\n",
    "\n",
    "\n",
    "def plot_confusion_matrix(y_true, y_pred, classes, title=None, cmap=plt.cm.Blues):\n",
    "    # Compute confusion matrix\n",
    "    cm = confusion_matrix(y_true, y_pred)\n",
    "    # Only use the labels that appear in the data\n",
    "\n",
    "    fig, ax = plt.subplots()\n",
    "    im = ax.imshow(cm, interpolation='nearest', cmap=cmap)\n",
    "    ax.figure.colorbar(im, ax=ax)\n",
    "    # We want to show all ticks...\n",
    "    ax.set(xticks=np.arange(cm.shape[1]),\n",
    "           yticks=np.arange(cm.shape[0]),\n",
    "           xticklabels=classes,\n",
    "           yticklabels=classes,\n",
    "           title=title,\n",
    "           ylabel='True label',\n",
    "           xlabel='Predicted label')\n",
    "\n",
    "    # Rotate the tick labels and set their alignment.\n",
    "    plt.setp(ax.get_xticklabels(), rotation=45, ha=\"right\",\n",
    "             rotation_mode=\"anchor\")\n",
    "\n",
    "    # Loop over data dimensions and create text annotations.\n",
    "    fmt = 'd'\n",
    "    thresh = cm.max() / 2.\n",
    "    for i in range(cm.shape[0]):\n",
    "        for j in range(cm.shape[1]):\n",
    "            ax.text(j, i, format(cm[i, j], fmt),\n",
    "                    ha=\"center\", va=\"center\",\n",
    "                    color=\"white\" if cm[i, j] > thresh else \"black\")\n",
    "    fig.tight_layout()\n",
    "\n",
    "    return plt"
   ]
  },
  {
   "cell_type": "markdown",
   "metadata": {},
   "source": [
    "## Train the model"
   ]
  },
  {
   "cell_type": "code",
   "execution_count": 9,
   "metadata": {},
   "outputs": [
    {
     "name": "stderr",
     "output_type": "stream",
     "text": [
      "  0%|          | 0/3 [00:00<?, ?it/s]"
     ]
    },
    {
     "name": "stdout",
     "output_type": "stream",
     "text": [
      "Under-Sampling Data\n",
      "Under-Sampling Complete\n",
      "Training Random Forest Model\n"
     ]
    },
    {
     "name": "stderr",
     "output_type": "stream",
     "text": [
      " 33%|███▎      | 1/3 [00:14<00:29, 14.86s/it]"
     ]
    },
    {
     "name": "stdout",
     "output_type": "stream",
     "text": [
      "After train data length :  11836\n",
      "After test data length :  576\n",
      "----------------------------------------\n"
     ]
    },
    {
     "name": "stderr",
     "output_type": "stream",
     "text": [
      " 67%|██████▋   | 2/3 [00:21<00:12, 12.27s/it]"
     ]
    },
    {
     "name": "stdout",
     "output_type": "stream",
     "text": [
      "After train data length :  11922\n",
      "After test data length :  490\n",
      "----------------------------------------\n"
     ]
    },
    {
     "name": "stderr",
     "output_type": "stream",
     "text": [
      "100%|██████████| 3/3 [00:27<00:00,  9.01s/it]"
     ]
    },
    {
     "name": "stdout",
     "output_type": "stream",
     "text": [
      "After train data length :  11954\n",
      "After test data length :  458\n",
      "----------------------------------------\n"
     ]
    },
    {
     "name": "stderr",
     "output_type": "stream",
     "text": [
      "\n"
     ]
    },
    {
     "name": "stdout",
     "output_type": "stream",
     "text": [
      "Random Forest Model Results\n",
      "----------------------------------------\n",
      "Accuracy Score : 0.8636803093780213\n",
      "Precision Score : 0.8259818731117825\n",
      "Recall Score : 0.9101198402130493\n",
      "F1 Score : 0.8660120367437442\n",
      "Confusion Matrix : \n",
      "[[1313  288]\n",
      " [ 135 1367]]\n"
     ]
    },
    {
     "data": {
      "image/png": "[encoded data removed]",
      "text/plain": [
       "<Figure size 432x288 with 2 Axes>"
      ]
     },
     "metadata": {
      "needs_background": "light"
     },
     "output_type": "display_data"
    },
    {
     "name": "stderr",
     "output_type": "stream",
     "text": [
      "  0%|          | 0/3 [00:00<?, ?it/s]"
     ]
    },
    {
     "name": "stdout",
     "output_type": "stream",
     "text": [
      "Training Naive Bayes Model\n"
     ]
    },
    {
     "name": "stderr",
     "output_type": "stream",
     "text": [
      "100%|██████████| 3/3 [00:10<00:00,  3.59s/it]"
     ]
    },
    {
     "name": "stdout",
     "output_type": "stream",
     "text": [
      "After train data length :  12394\n",
      "After test data length :  18\n",
      "----------------------------------------\n",
      "After train data length :  12402\n",
      "After test data length :  10\n",
      "----------------------------------------\n",
      "After train data length :  12402\n",
      "After test data length :  10\n",
      "----------------------------------------\n",
      "Naive Bayes Model Results\n",
      "----------------------------------------\n",
      "Accuracy Score : 0.7231711247180148\n",
      "Precision Score : 0.6396005210594876\n",
      "Recall Score : 0.9806924101198402\n",
      "F1 Score : 0.7742444152431012\n",
      "Confusion Matrix : \n",
      "[[ 771  830]\n",
      " [  29 1473]]\n"
     ]
    },
    {
     "name": "stderr",
     "output_type": "stream",
     "text": [
      "\n"
     ]
    },
    {
     "data": {
      "image/png": "[encoded data removed]",
      "text/plain": [
       "<Figure size 432x288 with 2 Axes>"
      ]
     },
     "metadata": {
      "needs_background": "light"
     },
     "output_type": "display_data"
    },
    {
     "name": "stdout",
     "output_type": "stream",
     "text": [
      "Time taken :  38.58566927909851\n"
     ]
    }
   ],
   "source": [
    "start_time = time()\n",
    "under_sampled_df = under_sampling(df)\n",
    "under_sampled_df.head()\n",
    "rf = RandomForestClassifier(random_state=42, criterion='entropy', max_depth=14, max_features='auto', n_estimators=500)\n",
    "nb = GaussianNB()\n",
    "\n",
    "semi_supervised_learning(under_sampled_df, model=rf, threshold=0.7, iterations=3, algorithm='Random Forest')\n",
    "semi_supervised_learning(under_sampled_df, model=nb, threshold=0.7, iterations=3, algorithm='Naive Bayes')\n",
    "end_time = time()\n",
    "print(\"Time taken : \", end_time - start_time)"
   ]
  },
  {
   "cell_type": "code",
   "execution_count": null,
   "metadata": {},
   "outputs": [],
   "source": []
  }
 ],
 "metadata": {
  "kernelspec": {
   "display_name": "big-data-ca",
   "language": "python",
   "name": "big-data-ca"
  },
  "language_info": {
   "codemirror_mode": {
    "name": "ipython",
    "version": 3
   },
   "file_extension": ".py",
   "mimetype": "text/x-python",
   "name": "python",
   "nbconvert_exporter": "python",
   "pygments_lexer": "ipython3",
   "version": "3.6.9"
  }
 },
 "nbformat": 4,
 "nbformat_minor": 4
}
